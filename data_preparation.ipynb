{
  "cells": [
    {
      "cell_type": "markdown",
      "metadata": {
        "id": "view-in-github",
        "colab_type": "text"
      },
      "source": [
        "<a href=\"https://colab.research.google.com/github/CurioLytics/Emotional-Analysis/blob/main/data_preparation.ipynb\" target=\"_parent\"><img src=\"https://colab.research.google.com/assets/colab-badge.svg\" alt=\"Open In Colab\"/></a>"
      ]
    },
    {
      "cell_type": "code",
      "execution_count": null,
      "metadata": {
        "colab": {
          "base_uri": "https://localhost:8080/"
        },
        "id": "tZB9lX3xgz3T",
        "outputId": "9c7db80c-6e45-4ba9-a6db-6a5c9d5ea6cc"
      },
      "outputs": [
        {
          "output_type": "stream",
          "name": "stdout",
          "text": [
            "Requirement already satisfied: emoji in /usr/local/lib/python3.11/dist-packages (2.14.1)\n"
          ]
        }
      ],
      "source": [
        "#Cài đặt thư viện dùng để xử lý, phát hiện hoặc loại bỏ emoji trong văn bản (vì nhiều câu trong dữ liệu có chứa emoji)\n",
        "!pip install emoji"
      ]
    },
    {
      "cell_type": "code",
      "source": [
        "#nhập các thư viện cần thiết sẽ được sử dụng để xử lý và phân tích văn bản\n",
        "import pandas as pd\n",
        "import numpy as np\n",
        "import re\n",
        "import emoji\n",
        "import nltk\n",
        "from collections import Counter\n",
        "from nltk.stem import PorterStemmer, WordNetLemmatizer\n",
        "from nltk.corpus import stopwords, wordnet"
      ],
      "metadata": {
        "id": "e6pbr6_SBz8c"
      },
      "execution_count": null,
      "outputs": []
    },
    {
      "cell_type": "markdown",
      "source": [
        "pandas, numpy: Đọc dữ liệu CSV, xử lý bảng dữ liệu\n",
        "\n",
        "re: Dùng biểu thức chính quy để làm sạch văn bản\n",
        "\n",
        "emoji: Phát hiện và xử lý emoji\n",
        "\n",
        "nltk: Xử lý ngôn ngữ tự nhiên\n",
        "\n",
        "PorterStremmer: Rút gọn từ về gốc (stemming)\n",
        "\n",
        "WordNetLemmatizer: Lemmatization – đưa từ về dạng từ điển\n",
        "\n",
        "Counter: Thống kê tần suất từ\n",
        "\n"
      ],
      "metadata": {
        "id": "l1qUlOHBMxqz"
      }
    },
    {
      "cell_type": "code",
      "execution_count": null,
      "metadata": {
        "id": "pjbw_q5Jgz3W",
        "colab": {
          "base_uri": "https://localhost:8080/"
        },
        "outputId": "e41e35b6-9eb1-480e-f9a5-e970dd7e5ec1"
      },
      "outputs": [
        {
          "output_type": "stream",
          "name": "stdout",
          "text": [
            "Dataset shape: (70000, 37)\n",
            "\n",
            "First 5 rows of the dataset:\n",
            "                                                text       id  \\\n",
            "0                                    That game hurt.  eew5j0j   \n",
            "1   >sexuality shouldn‚Äôt be a grouping category...  eemcysk   \n",
            "2     You do right, if you don't care then fuck 'em!  ed2mah1   \n",
            "3                                 Man I love reddit.  eeibobj   \n",
            "4  [NAME] was nowhere near them, he was by the Fa...  eda6yn6   \n",
            "\n",
            "                author            subreddit    link_id   parent_id  \\\n",
            "0                Brdd9                  nrl  t3_ajis4z  t1_eew18eq   \n",
            "1          TheGreen888     unpopularopinion  t3_ai4q37   t3_ai4q37   \n",
            "2             Labalool          confessions  t3_abru74  t1_ed2m7g7   \n",
            "3        MrsRobertshaw             facepalm  t3_ahulml   t3_ahulml   \n",
            "4  American_Fascist713  starwarsspeculation  t3_ackt2f  t1_eda65q2   \n",
            "\n",
            "    created_utc  rater_id  example_very_unclear  admiration  ...  love  \\\n",
            "0  1.548381e+09         1                 False           0  ...     0   \n",
            "1  1.548084e+09        37                  True           0  ...     0   \n",
            "2  1.546428e+09        37                 False           0  ...     0   \n",
            "3  1.547965e+09        18                 False           0  ...     1   \n",
            "4  1.546669e+09         2                 False           0  ...     0   \n",
            "\n",
            "   nervousness  optimism  pride  realization  relief  remorse  sadness  \\\n",
            "0            0         0      0            0       0        0        1   \n",
            "1            0         0      0            0       0        0        0   \n",
            "2            0         0      0            0       0        0        0   \n",
            "3            0         0      0            0       0        0        0   \n",
            "4            0         0      0            0       0        0        0   \n",
            "\n",
            "   surprise  neutral  \n",
            "0         0        0  \n",
            "1         0        0  \n",
            "2         0        1  \n",
            "3         0        0  \n",
            "4         0        1  \n",
            "\n",
            "[5 rows x 37 columns]\n"
          ]
        }
      ],
      "source": [
        "# Import necessary libraries\n",
        "#requests: Thư viện này được sử dụng để tải xuống các tệp tin từ internet.\n",
        "#os: Thư viện này cung cấp các hàm để tương tác với hệ điều hành.\n",
        "#io: Đối tượng StringIO từ thư viện này được sử dụng để coi nội dung tập dữ liệu đã tải xuống như một tệp tin, cho phép pandas đọc nó một cách chính xác.\n",
        "import requests\n",
        "import os\n",
        "from io import StringIO\n",
        "#Tải và hiển thị dữ liệu từ GoEmotions\n",
        "url = \"https://storage.googleapis.com/gresearch/goemotions/data/full_dataset/goemotions_1.csv\"\n",
        "\n",
        "# sử dụng thư viện requests để gửi yêu cầu đến URL được chỉ định, yêu cầu dữ liệu từ vị trí đó. Kết quả của yêu cầu này được lưu trữ trong biến response\n",
        "response = requests.get(url)\n",
        "if response.status_code == 200:\n",
        "    # Create a StringIO object from the response content\n",
        "    csv_data = StringIO(response.text)\n",
        "\n",
        "    # Read the CSV data into a pandas DataFrame\n",
        "    df_train = pd.read_csv(csv_data)\n",
        "\n",
        "    # Display basic information about the dataset\n",
        "    print(f\"Dataset shape: {df_train.shape}\")\n",
        "    print(\"\\nFirst 5 rows of the dataset:\")\n",
        "    print(df_train.head())\n",
        "\n"
      ]
    },
    {
      "cell_type": "markdown",
      "source": [
        "Dữ liệu lấy từ Google Cloud\n",
        "Lưu vào df_train.\n",
        "Thông tin dữ liệu là văn bản được người dùng viết trên Reddit, gồm 37 cột, 28 cột cảm xúc, 7000 dòng\n"
      ],
      "metadata": {
        "id": "rWsa4kxmPQr4"
      }
    },
    {
      "cell_type": "code",
      "execution_count": null,
      "metadata": {
        "id": "pfaJP23zgz3Z"
      },
      "outputs": [],
      "source": [
        "# Tạo ra một biến mới có tên là train_df và gán cho nó giá trị của biến df_train đã tồn tại\n",
        "train_df=df_train"
      ]
    },
    {
      "cell_type": "code",
      "execution_count": null,
      "metadata": {
        "id": "kmB20MI3gz3a",
        "colab": {
          "base_uri": "https://localhost:8080/"
        },
        "outputId": "2c7edd47-3c1c-4528-ca39-8f41bf2b7e42"
      },
      "outputs": [
        {
          "output_type": "stream",
          "name": "stdout",
          "text": [
            "(70000, 37)\n",
            "Index(['text', 'id', 'author', 'subreddit', 'link_id', 'parent_id',\n",
            "       'created_utc', 'rater_id', 'example_very_unclear', 'admiration',\n",
            "       'amusement', 'anger', 'annoyance', 'approval', 'caring', 'confusion',\n",
            "       'curiosity', 'desire', 'disappointment', 'disapproval', 'disgust',\n",
            "       'embarrassment', 'excitement', 'fear', 'gratitude', 'grief', 'joy',\n",
            "       'love', 'nervousness', 'optimism', 'pride', 'realization', 'relief',\n",
            "       'remorse', 'sadness', 'surprise', 'neutral'],\n",
            "      dtype='object')\n"
          ]
        }
      ],
      "source": [
        "#Hiển thị tên các cột trong tập dữ liệu, gồm 37 cột trong đó 28 cột là cảm xúc\n",
        "print(train_df.shape)\n",
        "cols = train_df.columns\n",
        "print(cols)"
      ]
    },
    {
      "cell_type": "code",
      "execution_count": null,
      "metadata": {
        "id": "nLpWffVQgz3b",
        "colab": {
          "base_uri": "https://localhost:8080/"
        },
        "outputId": "92fb7692-e43f-404e-96b3-008325492242"
      },
      "outputs": [
        {
          "output_type": "stream",
          "name": "stdout",
          "text": [
            "(1129, 37)\n"
          ]
        }
      ],
      "source": [
        "# tách biệt và đếm số lượng các hàng trong DataFrame train_df được đánh dấu là \"rất không rõ ràng\" (very unclear).\n",
        "unclear = train_df[train_df['example_very_unclear']==True]\n",
        "print(unclear.shape)"
      ]
    },
    {
      "cell_type": "code",
      "execution_count": null,
      "metadata": {
        "id": "q_0UGQr8gz3c"
      },
      "outputs": [],
      "source": [
        "#Phân nhóm các nhãn cảm xúc thành 3 nhóm chỉnh\n",
        "pos_labels = ['admiration','approval', 'amusement', 'caring', 'desire',\n",
        "              'excitement', 'gratitude', 'joy', 'love','optimism', 'pride', 'relief']\n",
        "neg_labels = ['anger', 'annoyance', 'disappointment', 'disapproval', 'disgust',\n",
        "              'embarrassment','fear', 'grief', 'nervousness', 'remorse', 'sadness']\n",
        "ambi_labels = ['confusion', 'curiosity', 'realization', 'surprise']"
      ]
    },
    {
      "cell_type": "code",
      "execution_count": null,
      "metadata": {
        "id": "_5KRYJfNgz3c"
      },
      "outputs": [],
      "source": [
        "#Đếm số lượng cảm xúc và nhóm cảm xúc\n",
        "emotion_count = {}\n",
        "category_count = {}\n",
        "#Với mỗi nhãn trong pos_labels, tìm số dòng có nhãn đó (== 1) và lưu vào emotion_count.\n",
        "#Đồng thời, cộng dồn số dòng thuộc nhóm positive vào pos_sum.\n",
        "#Làm tương tự cho nhóm negative và ami_labels\n",
        "pos_sum = 0\n",
        "for label in pos_labels:\n",
        "    df = train_df[train_df[label]==1]\n",
        "    emotion_count[label] = len(df)\n",
        "    pos_sum += len(df)\n",
        "category_count['positive'] = pos_sum\n",
        "\n",
        "neg_sum = 0\n",
        "for label in neg_labels:\n",
        "    df = train_df[train_df[label]==1]\n",
        "    emotion_count[label] = len(df)\n",
        "    neg_sum += len(df)\n",
        "category_count['negative'] = neg_sum\n",
        "\n",
        "ambi_sum = 0\n",
        "for label in ambi_labels:\n",
        "    df = train_df[train_df[label]==1]\n",
        "    emotion_count[label] = len(df)\n",
        "    ambi_sum += len(df)\n",
        "\n",
        "df = train_df[train_df['neutral']==1]\n",
        "emotion_count['neutral'] = len(df)\n",
        "ambi_sum += len(df)\n",
        "category_count['neutral'] = ambi_sum"
      ]
    },
    {
      "cell_type": "code",
      "execution_count": null,
      "metadata": {
        "id": "FY0T1PbRgz3c",
        "colab": {
          "base_uri": "https://localhost:8080/"
        },
        "outputId": "c18b7f9c-337d-478d-e844-3aef8a2aa698"
      },
      "outputs": [
        {
          "output_type": "execute_result",
          "data": {
            "text/plain": [
              "{'admiration': 5647,\n",
              " 'approval': 5928,\n",
              " 'amusement': 3081,\n",
              " 'caring': 1988,\n",
              " 'desire': 1248,\n",
              " 'excitement': 1900,\n",
              " 'gratitude': 3863,\n",
              " 'joy': 2607,\n",
              " 'love': 2745,\n",
              " 'optimism': 2887,\n",
              " 'pride': 452,\n",
              " 'relief': 452,\n",
              " 'anger': 2589,\n",
              " 'annoyance': 4443,\n",
              " 'disappointment': 2771,\n",
              " 'disapproval': 3774,\n",
              " 'disgust': 1704,\n",
              " 'embarrassment': 817,\n",
              " 'fear': 1048,\n",
              " 'grief': 227,\n",
              " 'nervousness': 598,\n",
              " 'remorse': 849,\n",
              " 'sadness': 2193,\n",
              " 'confusion': 2471,\n",
              " 'curiosity': 3267,\n",
              " 'realization': 2867,\n",
              " 'surprise': 1806,\n",
              " 'neutral': 18423}"
            ]
          },
          "metadata": {},
          "execution_count": 10
        }
      ],
      "source": [
        "#Đếm số lượng cảm xúc\n",
        "emotion_count\n"
      ]
    },
    {
      "cell_type": "code",
      "execution_count": null,
      "metadata": {
        "id": "LFg8z0-pgz3d",
        "colab": {
          "base_uri": "https://localhost:8080/"
        },
        "outputId": "1f6574b6-3e9d-4aad-c3a1-05e394a08f8f"
      },
      "outputs": [
        {
          "output_type": "execute_result",
          "data": {
            "text/plain": [
              "{'positive': 32798, 'negative': 21013, 'neutral': 28834}"
            ]
          },
          "metadata": {},
          "execution_count": 11
        }
      ],
      "source": [
        "#Đếm số lượng cảm xúc theo 3 nhóm\n",
        "category_count"
      ]
    },
    {
      "cell_type": "code",
      "execution_count": null,
      "metadata": {
        "id": "FwQueQyhgz3d"
      },
      "outputs": [],
      "source": [
        "#Nhóm cảm xúc liên quan vào 5 nhóm chính\n",
        "anger_list = [ \"anger\", \"annoyance\", \"disapproval\", \"disgust\"]\n",
        "fear_list = [\"fear\", \"nervousness\"]\n",
        "joy_list = [\"joy\", \"amusement\", \"approval\", \"excitement\", \"gratitude\",\"love\", \"optimism\", \"relief\", \"pride\", \"admiration\", \"desire\", \"caring\"]\n",
        "sadness_list = [\"sadness\", \"disappointment\", \"embarrassment\", \"grief\", \"remorse\"]\n",
        "surprise_list = [\"surprise\", \"realization\", \"confusion\", \"curiosity\"]"
      ]
    },
    {
      "cell_type": "code",
      "execution_count": null,
      "metadata": {
        "id": "KnelulVcgz3e"
      },
      "outputs": [],
      "source": [
        "emotion_groups = [anger_list, fear_list, joy_list, sadness_list, surprise_list]"
      ]
    },
    {
      "cell_type": "code",
      "execution_count": null,
      "metadata": {
        "id": "KojDx9s5gz3e",
        "colab": {
          "base_uri": "https://localhost:8080/",
          "height": 206
        },
        "outputId": "c2d7d2a8-f66b-4c9d-e847-2ebfa5ee7351"
      },
      "outputs": [
        {
          "output_type": "execute_result",
          "data": {
            "text/plain": [
              "                                                text group_label\n",
              "0                                    That game hurt.           3\n",
              "1     You do right, if you don't care then fuck 'em!           5\n",
              "2                                 Man I love reddit.           2\n",
              "3  [NAME] was nowhere near them, he was by the Fa...           5\n",
              "4  Right? Considering it‚Äôs such an important do...           2"
            ],
            "text/html": [
              "\n",
              "  <div id=\"df-03fa34c7-7de2-4ff1-8cef-ba16f87ebe19\" class=\"colab-df-container\">\n",
              "    <div>\n",
              "<style scoped>\n",
              "    .dataframe tbody tr th:only-of-type {\n",
              "        vertical-align: middle;\n",
              "    }\n",
              "\n",
              "    .dataframe tbody tr th {\n",
              "        vertical-align: top;\n",
              "    }\n",
              "\n",
              "    .dataframe thead th {\n",
              "        text-align: right;\n",
              "    }\n",
              "</style>\n",
              "<table border=\"1\" class=\"dataframe\">\n",
              "  <thead>\n",
              "    <tr style=\"text-align: right;\">\n",
              "      <th></th>\n",
              "      <th>text</th>\n",
              "      <th>group_label</th>\n",
              "    </tr>\n",
              "  </thead>\n",
              "  <tbody>\n",
              "    <tr>\n",
              "      <th>0</th>\n",
              "      <td>That game hurt.</td>\n",
              "      <td>3</td>\n",
              "    </tr>\n",
              "    <tr>\n",
              "      <th>1</th>\n",
              "      <td>You do right, if you don't care then fuck 'em!</td>\n",
              "      <td>5</td>\n",
              "    </tr>\n",
              "    <tr>\n",
              "      <th>2</th>\n",
              "      <td>Man I love reddit.</td>\n",
              "      <td>2</td>\n",
              "    </tr>\n",
              "    <tr>\n",
              "      <th>3</th>\n",
              "      <td>[NAME] was nowhere near them, he was by the Fa...</td>\n",
              "      <td>5</td>\n",
              "    </tr>\n",
              "    <tr>\n",
              "      <th>4</th>\n",
              "      <td>Right? Considering it‚Äôs such an important do...</td>\n",
              "      <td>2</td>\n",
              "    </tr>\n",
              "  </tbody>\n",
              "</table>\n",
              "</div>\n",
              "    <div class=\"colab-df-buttons\">\n",
              "\n",
              "  <div class=\"colab-df-container\">\n",
              "    <button class=\"colab-df-convert\" onclick=\"convertToInteractive('df-03fa34c7-7de2-4ff1-8cef-ba16f87ebe19')\"\n",
              "            title=\"Convert this dataframe to an interactive table.\"\n",
              "            style=\"display:none;\">\n",
              "\n",
              "  <svg xmlns=\"http://www.w3.org/2000/svg\" height=\"24px\" viewBox=\"0 -960 960 960\">\n",
              "    <path d=\"M120-120v-720h720v720H120Zm60-500h600v-160H180v160Zm220 220h160v-160H400v160Zm0 220h160v-160H400v160ZM180-400h160v-160H180v160Zm440 0h160v-160H620v160ZM180-180h160v-160H180v160Zm440 0h160v-160H620v160Z\"/>\n",
              "  </svg>\n",
              "    </button>\n",
              "\n",
              "  <style>\n",
              "    .colab-df-container {\n",
              "      display:flex;\n",
              "      gap: 12px;\n",
              "    }\n",
              "\n",
              "    .colab-df-convert {\n",
              "      background-color: #E8F0FE;\n",
              "      border: none;\n",
              "      border-radius: 50%;\n",
              "      cursor: pointer;\n",
              "      display: none;\n",
              "      fill: #1967D2;\n",
              "      height: 32px;\n",
              "      padding: 0 0 0 0;\n",
              "      width: 32px;\n",
              "    }\n",
              "\n",
              "    .colab-df-convert:hover {\n",
              "      background-color: #E2EBFA;\n",
              "      box-shadow: 0px 1px 2px rgba(60, 64, 67, 0.3), 0px 1px 3px 1px rgba(60, 64, 67, 0.15);\n",
              "      fill: #174EA6;\n",
              "    }\n",
              "\n",
              "    .colab-df-buttons div {\n",
              "      margin-bottom: 4px;\n",
              "    }\n",
              "\n",
              "    [theme=dark] .colab-df-convert {\n",
              "      background-color: #3B4455;\n",
              "      fill: #D2E3FC;\n",
              "    }\n",
              "\n",
              "    [theme=dark] .colab-df-convert:hover {\n",
              "      background-color: #434B5C;\n",
              "      box-shadow: 0px 1px 3px 1px rgba(0, 0, 0, 0.15);\n",
              "      filter: drop-shadow(0px 1px 2px rgba(0, 0, 0, 0.3));\n",
              "      fill: #FFFFFF;\n",
              "    }\n",
              "  </style>\n",
              "\n",
              "    <script>\n",
              "      const buttonEl =\n",
              "        document.querySelector('#df-03fa34c7-7de2-4ff1-8cef-ba16f87ebe19 button.colab-df-convert');\n",
              "      buttonEl.style.display =\n",
              "        google.colab.kernel.accessAllowed ? 'block' : 'none';\n",
              "\n",
              "      async function convertToInteractive(key) {\n",
              "        const element = document.querySelector('#df-03fa34c7-7de2-4ff1-8cef-ba16f87ebe19');\n",
              "        const dataTable =\n",
              "          await google.colab.kernel.invokeFunction('convertToInteractive',\n",
              "                                                    [key], {});\n",
              "        if (!dataTable) return;\n",
              "\n",
              "        const docLinkHtml = 'Like what you see? Visit the ' +\n",
              "          '<a target=\"_blank\" href=https://colab.research.google.com/notebooks/data_table.ipynb>data table notebook</a>'\n",
              "          + ' to learn more about interactive tables.';\n",
              "        element.innerHTML = '';\n",
              "        dataTable['output_type'] = 'display_data';\n",
              "        await google.colab.output.renderOutput(dataTable, element);\n",
              "        const docLink = document.createElement('div');\n",
              "        docLink.innerHTML = docLinkHtml;\n",
              "        element.appendChild(docLink);\n",
              "      }\n",
              "    </script>\n",
              "  </div>\n",
              "\n",
              "\n",
              "<div id=\"df-00af70aa-68c9-4a2f-9c91-6476e8c4a27f\">\n",
              "  <button class=\"colab-df-quickchart\" onclick=\"quickchart('df-00af70aa-68c9-4a2f-9c91-6476e8c4a27f')\"\n",
              "            title=\"Suggest charts\"\n",
              "            style=\"display:none;\">\n",
              "\n",
              "<svg xmlns=\"http://www.w3.org/2000/svg\" height=\"24px\"viewBox=\"0 0 24 24\"\n",
              "     width=\"24px\">\n",
              "    <g>\n",
              "        <path d=\"M19 3H5c-1.1 0-2 .9-2 2v14c0 1.1.9 2 2 2h14c1.1 0 2-.9 2-2V5c0-1.1-.9-2-2-2zM9 17H7v-7h2v7zm4 0h-2V7h2v10zm4 0h-2v-4h2v4z\"/>\n",
              "    </g>\n",
              "</svg>\n",
              "  </button>\n",
              "\n",
              "<style>\n",
              "  .colab-df-quickchart {\n",
              "      --bg-color: #E8F0FE;\n",
              "      --fill-color: #1967D2;\n",
              "      --hover-bg-color: #E2EBFA;\n",
              "      --hover-fill-color: #174EA6;\n",
              "      --disabled-fill-color: #AAA;\n",
              "      --disabled-bg-color: #DDD;\n",
              "  }\n",
              "\n",
              "  [theme=dark] .colab-df-quickchart {\n",
              "      --bg-color: #3B4455;\n",
              "      --fill-color: #D2E3FC;\n",
              "      --hover-bg-color: #434B5C;\n",
              "      --hover-fill-color: #FFFFFF;\n",
              "      --disabled-bg-color: #3B4455;\n",
              "      --disabled-fill-color: #666;\n",
              "  }\n",
              "\n",
              "  .colab-df-quickchart {\n",
              "    background-color: var(--bg-color);\n",
              "    border: none;\n",
              "    border-radius: 50%;\n",
              "    cursor: pointer;\n",
              "    display: none;\n",
              "    fill: var(--fill-color);\n",
              "    height: 32px;\n",
              "    padding: 0;\n",
              "    width: 32px;\n",
              "  }\n",
              "\n",
              "  .colab-df-quickchart:hover {\n",
              "    background-color: var(--hover-bg-color);\n",
              "    box-shadow: 0 1px 2px rgba(60, 64, 67, 0.3), 0 1px 3px 1px rgba(60, 64, 67, 0.15);\n",
              "    fill: var(--button-hover-fill-color);\n",
              "  }\n",
              "\n",
              "  .colab-df-quickchart-complete:disabled,\n",
              "  .colab-df-quickchart-complete:disabled:hover {\n",
              "    background-color: var(--disabled-bg-color);\n",
              "    fill: var(--disabled-fill-color);\n",
              "    box-shadow: none;\n",
              "  }\n",
              "\n",
              "  .colab-df-spinner {\n",
              "    border: 2px solid var(--fill-color);\n",
              "    border-color: transparent;\n",
              "    border-bottom-color: var(--fill-color);\n",
              "    animation:\n",
              "      spin 1s steps(1) infinite;\n",
              "  }\n",
              "\n",
              "  @keyframes spin {\n",
              "    0% {\n",
              "      border-color: transparent;\n",
              "      border-bottom-color: var(--fill-color);\n",
              "      border-left-color: var(--fill-color);\n",
              "    }\n",
              "    20% {\n",
              "      border-color: transparent;\n",
              "      border-left-color: var(--fill-color);\n",
              "      border-top-color: var(--fill-color);\n",
              "    }\n",
              "    30% {\n",
              "      border-color: transparent;\n",
              "      border-left-color: var(--fill-color);\n",
              "      border-top-color: var(--fill-color);\n",
              "      border-right-color: var(--fill-color);\n",
              "    }\n",
              "    40% {\n",
              "      border-color: transparent;\n",
              "      border-right-color: var(--fill-color);\n",
              "      border-top-color: var(--fill-color);\n",
              "    }\n",
              "    60% {\n",
              "      border-color: transparent;\n",
              "      border-right-color: var(--fill-color);\n",
              "    }\n",
              "    80% {\n",
              "      border-color: transparent;\n",
              "      border-right-color: var(--fill-color);\n",
              "      border-bottom-color: var(--fill-color);\n",
              "    }\n",
              "    90% {\n",
              "      border-color: transparent;\n",
              "      border-bottom-color: var(--fill-color);\n",
              "    }\n",
              "  }\n",
              "</style>\n",
              "\n",
              "  <script>\n",
              "    async function quickchart(key) {\n",
              "      const quickchartButtonEl =\n",
              "        document.querySelector('#' + key + ' button');\n",
              "      quickchartButtonEl.disabled = true;  // To prevent multiple clicks.\n",
              "      quickchartButtonEl.classList.add('colab-df-spinner');\n",
              "      try {\n",
              "        const charts = await google.colab.kernel.invokeFunction(\n",
              "            'suggestCharts', [key], {});\n",
              "      } catch (error) {\n",
              "        console.error('Error during call to suggestCharts:', error);\n",
              "      }\n",
              "      quickchartButtonEl.classList.remove('colab-df-spinner');\n",
              "      quickchartButtonEl.classList.add('colab-df-quickchart-complete');\n",
              "    }\n",
              "    (() => {\n",
              "      let quickchartButtonEl =\n",
              "        document.querySelector('#df-00af70aa-68c9-4a2f-9c91-6476e8c4a27f button');\n",
              "      quickchartButtonEl.style.display =\n",
              "        google.colab.kernel.accessAllowed ? 'block' : 'none';\n",
              "    })();\n",
              "  </script>\n",
              "</div>\n",
              "\n",
              "    </div>\n",
              "  </div>\n"
            ],
            "application/vnd.google.colaboratory.intrinsic+json": {
              "type": "dataframe",
              "variable_name": "emotion_group_train",
              "summary": "{\n  \"name\": \"emotion_group_train\",\n  \"rows\": 68871,\n  \"fields\": [\n    {\n      \"column\": \"text\",\n      \"properties\": {\n        \"dtype\": \"string\",\n        \"num_unique_values\": 42843,\n        \"samples\": [\n          \"Anything can happen. So many upsets have happened at the PLQ. Every team is beatable.\",\n          \"They probably got de-funded. I need to support them.\",\n          \"The players turning on him for crying story cracked me up though.\"\n        ],\n        \"semantic_type\": \"\",\n        \"description\": \"\"\n      }\n    },\n    {\n      \"column\": \"group_label\",\n      \"properties\": {\n        \"dtype\": \"category\",\n        \"num_unique_values\": 6,\n        \"samples\": [\n          \"3\",\n          \"5\",\n          \"1\"\n        ],\n        \"semantic_type\": \"\",\n        \"description\": \"\"\n      }\n    }\n  ]\n}"
            }
          },
          "metadata": {},
          "execution_count": 15
        }
      ],
      "source": [
        "# Nhóm các cảm xúc và tạo DataFrame mới\n",
        "#Tạo mapping cảm xúc vào 5 nhóm chính: Anger, Fear, Joy, Sadness, Surprise, Neutral\n",
        "\"\"\"\n",
        "Labels:\n",
        "Anger (0) : [“Anger”, “annoyance”, “disapproval”, “disgust”]\n",
        "Fear (1) : [“fear”, “nervousness” ]\n",
        "Joy (2) : [“joy” , “amusement”, “approval”, “excitement”, “gratitude”,\n",
        "     “love”, “optimism”, “relief”, “pride”, “admiration”, “desire”, “caring”]\n",
        "Sadness (3) : [“Sadness”, “Disappointment”, “Embarrassment”, “grief”, “remorse”]\n",
        "Surprise (4) : [“Surprise”, “Realization”, “confusion”, “curiosity”]\n",
        "Neutral (5) : [\"Neutral\"]\n",
        "\"\"\"\n",
        "\n",
        "col_names = ['text','group_label']\n",
        "#Danh sách trống này sẽ lưu trữ dữ liệu cho DataFrame mới.\n",
        "new_data = []\n",
        "#Vòng lặp này lặp qua từng hàng (row) của DataFrame gốc (train_df), cùng với chỉ số của nó (id).\n",
        "for id,row in train_df.iterrows():\n",
        "  #Lọc các dòng không rõ ràng, bỏ qua bằng continue\n",
        "    if row['example_very_unclear'] == True:\n",
        "        continue\n",
        "    else:\n",
        "      #Nếu cột neutral là True, hàng sẽ được gán vào nhóm \"Trung lập\" (nhãn 5).\n",
        "      #Nếu không, mã sẽ xác định nhóm cảm xúc chiếm ưu thế cho hàng bằng cách:\n",
        "      #Lặp qua từng nhóm cảm xúc (eg) và đếm số lượng các cảm xúc riêng lẻ trong nhóm đó có trong hàng.\n",
        "      #Gán nhóm có số lượng cao nhất (max_cnt) làm group_label của hàng (max_label).\n",
        "        if row['neutral'] == True:\n",
        "            data = [row['text'], 5]\n",
        "        else:\n",
        "            max_cnt = -1\n",
        "            max_label = -1\n",
        "            for ix,eg in enumerate(emotion_groups):\n",
        "                cnt = 0\n",
        "                for label in eg:\n",
        "                    if row[label] == 1:\n",
        "                        cnt += 1\n",
        "                if cnt > max_cnt:\n",
        "                    max_cnt = cnt\n",
        "                    max_label = ix\n",
        "            data = [row['text'], max_label]\n",
        "        new_data.append(data)\n",
        "\n",
        "#Tạo DataFrame mới:\n",
        "emotion_group_train = pd.DataFrame(np.array(new_data),columns=col_names)\n",
        "emotion_group_train.head()"
      ]
    },
    {
      "cell_type": "code",
      "execution_count": 16,
      "metadata": {
        "id": "fvATnmyBgz3g",
        "colab": {
          "base_uri": "https://localhost:8080/"
        },
        "outputId": "f2063f28-4871-44aa-ba25-5fc17ab281f9"
      },
      "outputs": [
        {
          "output_type": "execute_result",
          "data": {
            "text/plain": [
              "(68871, 2)"
            ]
          },
          "metadata": {},
          "execution_count": 16
        }
      ],
      "source": [
        "emotion_group_train.shape"
      ]
    },
    {
      "cell_type": "markdown",
      "metadata": {
        "id": "uI0Lln8ogz3h"
      },
      "source": [
        "## NLP preprocessing"
      ]
    },
    {
      "cell_type": "code",
      "execution_count": 17,
      "metadata": {
        "id": "btKtRXKDgz3k",
        "colab": {
          "base_uri": "https://localhost:8080/"
        },
        "outputId": "d187642e-9c08-42f5-8990-a7408b6e4e18"
      },
      "outputs": [
        {
          "output_type": "stream",
          "name": "stderr",
          "text": [
            "[nltk_data] Downloading package stopwords to /root/nltk_data...\n",
            "[nltk_data]   Unzipping corpora/stopwords.zip.\n"
          ]
        },
        {
          "output_type": "stream",
          "name": "stdout",
          "text": [
            "                                                text group_label  \\\n",
            "0                                    That game hurt.           3   \n",
            "1     You do right, if you don't care then fuck 'em!           5   \n",
            "2                                 Man I love reddit.           2   \n",
            "3  [NAME] was nowhere near them, he was by the Fa...           5   \n",
            "4  Right? Considering it‚Äôs such an important do...           2   \n",
            "\n",
            "                                          clean_text  \n",
            "0                                          game hurt  \n",
            "1                            right dont care fuck em  \n",
            "2                                    man love reddit  \n",
            "3                           name nowhere near falcon  \n",
            "4  right considering it‚äôs important document kn...  \n"
          ]
        }
      ],
      "source": [
        "import pandas as pd\n",
        "import re\n",
        "import string\n",
        "import nltk\n",
        "\n",
        "# Tải stopwords tiếng Anh (nếu chưa có)\n",
        "nltk.download(\"stopwords\")\n",
        "from nltk.corpus import stopwords\n",
        "\n",
        "# Danh sách các từ dừng (có thể mở rộng nếu cần)\n",
        "stop_words = set(stopwords.words(\"english\"))\n",
        "\n",
        "# 🛠 Hàm xóa URL\n",
        "def remove_urls(text):\n",
        "    return re.sub(r\"http.?://[^\\s]+[\\s]?\", \"\", text)\n",
        "\n",
        "# 🛠 Hàm xóa @mentions\n",
        "def remove_mentions(text):\n",
        "    return re.sub(r\"@\\w+\", \"\", text)\n",
        "\n",
        "# 🛠 Hàm xóa dấu câu\n",
        "def remove_punctuation(text):\n",
        "    return text.translate(str.maketrans(\"\", \"\", string.punctuation))\n",
        "\n",
        "# 🛠 Hàm chuyển thành chữ thường\n",
        "def to_lower(text):\n",
        "    return text.lower()\n",
        "\n",
        "# 🛠 Hàm xóa khoảng trắng thừa\n",
        "def remove_whitespaces(text):\n",
        "    return text.strip()\n",
        "\n",
        "# 🛠 Hàm xóa số\n",
        "def remove_digits(text):\n",
        "    return re.sub(r\"\\d+\", \"\", text)\n",
        "\n",
        "# 🛠 Hàm xóa từ dừng\n",
        "def remove_stopwords(text):\n",
        "    words = text.split()\n",
        "    filtered_words = [word for word in words if word.lower() not in stop_words]\n",
        "    return \" \".join(filtered_words)\n",
        "\n",
        "# 🛠 Hàm loại bỏ ký tự lặp (ví dụ: \"coooool\" -> \"cool\")\n",
        "def de_repeat(text):\n",
        "    pattern = re.compile(r\"(.)\\1{2,}\")  # Bắt ký tự lặp từ 3 lần trở lên\n",
        "    return pattern.sub(r\"\\1\\1\", text)  # Thay thế bằng chính nó nhưng chỉ lặp 2 lần\n",
        "\n",
        "# 🛠 Hàm tổng hợp để làm sạch dữ liệu\n",
        "def clean_text(text):\n",
        "    if pd.isnull(text):  # Kiểm tra nếu giá trị NaN\n",
        "        return \"\"\n",
        "    text = to_lower(text)\n",
        "    text = remove_mentions(text)\n",
        "    text = remove_urls(text)\n",
        "    text = remove_punctuation(text)\n",
        "    text = remove_digits(text)\n",
        "    text = de_repeat(text)\n",
        "    text = remove_whitespaces(text)\n",
        "    text = remove_stopwords(text)\n",
        "    return text\n",
        "\n",
        "# 🛠 Áp dụng vào DataFrame `emotion_group_train`\n",
        "# Giả sử df đã được load sẵn\n",
        "# df = pd.read_csv(\"emotion_group_train.csv\")  # Nếu cần đọc từ file CSV\n",
        "\n",
        "# Áp dụng làm sạch dữ liệu\n",
        "emotion_group_train[\"clean_text\"] = emotion_group_train[\"text\"].apply(clean_text)\n",
        "\n",
        "# Hiển thị kết quả\n",
        "print(emotion_group_train.head())\n"
      ]
    },
    {
      "cell_type": "markdown",
      "metadata": {
        "id": "LJVLEE0agz3k"
      },
      "source": [
        "## Deep Cleaning"
      ]
    },
    {
      "cell_type": "code",
      "source": [
        "import nltk\n",
        "nltk.download('averaged_perceptron_tagger_eng')\n",
        "nltk.download('punkt')\n",
        "nltk.download('wordnet')"
      ],
      "metadata": {
        "colab": {
          "base_uri": "https://localhost:8080/"
        },
        "id": "n8_mTOrOClDI",
        "outputId": "e9449718-a924-4027-b802-ecc73d7a6dca"
      },
      "execution_count": 18,
      "outputs": [
        {
          "output_type": "stream",
          "name": "stderr",
          "text": [
            "[nltk_data] Downloading package averaged_perceptron_tagger_eng to\n",
            "[nltk_data]     /root/nltk_data...\n",
            "[nltk_data]   Unzipping taggers/averaged_perceptron_tagger_eng.zip.\n",
            "[nltk_data] Downloading package punkt to /root/nltk_data...\n",
            "[nltk_data]   Unzipping tokenizers/punkt.zip.\n",
            "[nltk_data] Downloading package wordnet to /root/nltk_data...\n"
          ]
        },
        {
          "output_type": "execute_result",
          "data": {
            "text/plain": [
              "True"
            ]
          },
          "metadata": {},
          "execution_count": 18
        }
      ]
    },
    {
      "cell_type": "code",
      "execution_count": null,
      "metadata": {
        "id": "6dLC7rp4gz3l",
        "colab": {
          "base_uri": "https://localhost:8080/"
        },
        "outputId": "3207984f-3687-403b-f67c-9d7854947e1b"
      },
      "outputs": [
        {
          "output_type": "stream",
          "name": "stdout",
          "text": [
            "                                                text group_label  \\\n",
            "0                                    That game hurt.           3   \n",
            "1     You do right, if you don't care then fuck 'em!           5   \n",
            "2                                 Man I love reddit.           2   \n",
            "3  [NAME] was nowhere near them, he was by the Fa...           5   \n",
            "4  Right? Considering it‚Äôs such an important do...           2   \n",
            "\n",
            "                                          clean_text  has_hashtag  has_emoji  \\\n",
            "0                                          game hurt        False      False   \n",
            "1                            right dont care fuck em        False      False   \n",
            "2                                    man love reddit        False      False   \n",
            "3                           name nowhere near falcon        False      False   \n",
            "4  right considering it‚äôs important document kn...        False      False   \n",
            "\n",
            "   has_emoticon                                    deep_clean_text  \n",
            "0         False                                          game hurt  \n",
            "1         False                            right dont care fuck em  \n",
            "2         False                                    man love reddit  \n",
            "3         False                           name nowhere near falcon  \n",
            "4         False  right consider it‚äôs important document know ...  \n"
          ]
        }
      ],
      "source": [
        "# Danh sách emoticons\n",
        "EMOTICONS = {\n",
        "    \":)\": \"smile\", \":-)\": \"smile\",\n",
        "    \":(\": \"sad\", \":-(\": \"sad\",\n",
        "    \":D\": \"laugh\", \":-D\": \"laugh\",\n",
        "    \";)\": \"wink\", \";-)\": \"wink\",\n",
        "    \":P\": \"playful\", \":-P\": \"playful\"\n",
        "}\n",
        "\n",
        "# Tạo regex pattern để tìm emoticon\n",
        "emoticon_pattern = r\"|\".join(re.escape(e) for e in EMOTICONS.keys())\n",
        "\n",
        "### 1️.Kiểm tra nội dung đặc biệt ###\n",
        "def contains_hashtag(text):\n",
        "    \"\"\"Kiểm tra xem văn bản có chứa hashtag không.\"\"\"\n",
        "    return bool(re.search(r\"#\\s\", text)) if isinstance(text, str) else False\n",
        "\n",
        "def contains_emoji(text):\n",
        "    \"\"\"Kiểm tra xem văn bản có chứa emoji không.\"\"\"\n",
        "    return bool(emoji.emoji_count(text)) if isinstance(text, str) else False\n",
        "\n",
        "def contains_emoticon(text):\n",
        "    \"\"\"Kiểm tra xem văn bản có chứa emoticon không.\"\"\"\n",
        "    return bool(re.search(emoticon_pattern, text)) if isinstance(text, str) else False\n",
        "\n",
        "### 2️. Xử lý emoji & emoticon ###\n",
        "def convert_emoji_to_text(text):\n",
        "    \"\"\"Chuyển emoji thành từ mô tả (vd: 😍 -> [heart_eyes])\"\"\"\n",
        "    if not isinstance(text, str):\n",
        "        return text\n",
        "    return emoji.demojize(text, delimiters=(\"[\", \"]\"))\n",
        "\n",
        "def convert_emoticon_to_text(text):\n",
        "    \"\"\"Chuyển emoticon thành mô tả (vd: :) -> smile)\"\"\"\n",
        "    for emot in EMOTICONS:\n",
        "        text = re.sub(re.escape(emot), \"_\".join(EMOTICONS[emot].split()), text)\n",
        "    return text\n",
        "\n",
        "\n",
        "### 3. Stemming & Lemmatization ###\n",
        "def get_wordnet_pos(word):\n",
        "    \"\"\"Chuyển đổi POS tag thành dạng phù hợp với WordNet\"\"\"\n",
        "    tag = nltk.pos_tag([word])[0][1][0].upper()\n",
        "    tag_dict = {\"J\": wordnet.ADJ, \"N\": wordnet.NOUN, \"V\": wordnet.VERB, \"R\": wordnet.ADV}\n",
        "    return tag_dict.get(tag, wordnet.NOUN)\n",
        "\n",
        "def stemming(text):\n",
        "    \"\"\"Chuyển từ về dạng gốc (running -> run, better -> good)\"\"\"\n",
        "    ps = PorterStemmer()\n",
        "    lemmatizer = WordNetLemmatizer()\n",
        "    words = text.split()\n",
        "    lemma_words = [lemmatizer.lemmatize(word, get_wordnet_pos(word)) for word in words]\n",
        "    stemmed_words = [ps.stem(word) for word in lemma_words]\n",
        "    return \" \".join(lemma_words)\n",
        "\n",
        "### 4. Hàm tổng hợp: Deep Cleaning ###\n",
        "def deep_clean_text(text):\n",
        "    \"\"\"Áp dụng tất cả các bước deep cleaning vào văn bản\"\"\"\n",
        "    if pd.isnull(text):\n",
        "        return \"\"\n",
        "\n",
        "    text = convert_emoji_to_text(text)  # Chuyển emoji thành text\n",
        "    text = convert_emoticon_to_text(text)  # Chuyển emoticon thành text\n",
        "    text = stemming(text)  # Stemming & Lemmatization\n",
        "\n",
        "    return text\n",
        "\n",
        "### 5. Áp dụng vào DataFrame ###\n",
        "# Giả sử `emotion_group_train` là DataFrame chứa cột 'text'\n",
        "# df = pd.read_csv(\"emotion_group_train.csv\")  # Nếu cần đọc từ file CSV\n",
        "\n",
        "# Tạo cột kiểm tra hashtag, emoji, emoticon\n",
        "emotion_group_train[\"has_hashtag\"] = emotion_group_train[\"clean_text\"].apply(contains_hashtag)\n",
        "emotion_group_train[\"has_emoji\"] = emotion_group_train[\"clean_text\"].apply(contains_emoji)\n",
        "emotion_group_train[\"has_emoticon\"] = emotion_group_train[\"clean_text\"].apply(contains_emoticon)\n",
        "\n",
        "# Áp dụng Deep Cleaning\n",
        "emotion_group_train[\"deep_clean_text\"] = emotion_group_train[\"clean_text\"].apply(deep_clean_text)\n",
        "\n",
        "# Hiển thị kết quả\n",
        "print(emotion_group_train.head())\n"
      ]
    },
    {
      "cell_type": "code",
      "execution_count": null,
      "metadata": {
        "id": "AH2WxcVLgz3l"
      },
      "outputs": [],
      "source": [
        "\n",
        "# Chọn các cột mong muốn và đổi tên\n",
        "cleaned_data = emotion_group_train[['deep_clean_text', 'group_label']].rename(columns={'deep_clean_text': 'text', 'group_label': 'emotion'})\n",
        "\n",
        "# Xuất dữ liệu ra file CSV\n",
        "cleaned_data.to_csv('cleaned_data.csv', index=False)\n"
      ]
    },
    {
      "cell_type": "code",
      "source": [],
      "metadata": {
        "id": "G-AHgdVJhO_-"
      },
      "execution_count": null,
      "outputs": []
    }
  ],
  "metadata": {
    "kernelspec": {
      "display_name": "Python 3",
      "language": "python",
      "name": "python3"
    },
    "language_info": {
      "codemirror_mode": {
        "name": "ipython",
        "version": 3
      },
      "file_extension": ".py",
      "mimetype": "text/x-python",
      "name": "python",
      "nbconvert_exporter": "python",
      "pygments_lexer": "ipython3",
      "version": "3.11.9"
    },
    "colab": {
      "provenance": [],
      "include_colab_link": true
    }
  },
  "nbformat": 4,
  "nbformat_minor": 0
}